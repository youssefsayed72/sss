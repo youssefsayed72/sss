{
 "cells": [
  {
   "cell_type": "markdown",
   "id": "638b31a0-bdb2-4215-81b0-41fc5a87a34b",
   "metadata": {
    "tags": []
   },
   "source": [
    "### Transform the code you made for calculating the area of a circleinto \n",
    "function that:\n",
    "\n",
    "○ Takes the radius as inputs\n",
    "\n",
    "○ Gives the area as an output\n"
   ]
  },
  {
   "cell_type": "code",
   "execution_count": null,
   "id": "1cd5082e-f973-435e-b796-f1ef5e0217c5",
   "metadata": {},
   "outputs": [],
   "source": []
  },
  {
   "cell_type": "code",
   "execution_count": null,
   "id": "01993f7b-37c8-42d1-86b3-5e45b0113313",
   "metadata": {},
   "outputs": [],
   "source": []
  },
  {
   "cell_type": "markdown",
   "id": "3e81cce6-690c-422d-8c26-9029d4bdd3c7",
   "metadata": {},
   "source": [
    "### write a function to calculate the factorialof \n",
    "\n",
    "a given number and returns the result:"
   ]
  },
  {
   "cell_type": "markdown",
   "id": "40af4086-f755-4537-abf2-b7a21171babb",
   "metadata": {},
   "source": [
    "○ 1! = 1\n",
    "\n",
    "○ 3! = 3*2*1\n",
    "\n",
    "○ 5! = 5*4*3*2*1\n"
   ]
  },
  {
   "cell_type": "code",
   "execution_count": null,
   "id": "534fb5c7-6731-4df8-b0b3-a62ee8dc0770",
   "metadata": {},
   "outputs": [],
   "source": []
  },
  {
   "cell_type": "code",
   "execution_count": null,
   "id": "9351b6bb-654d-4121-9c21-eb0f9b1ff5a5",
   "metadata": {},
   "outputs": [],
   "source": []
  },
  {
   "cell_type": "code",
   "execution_count": null,
   "id": "813e955a-5f27-4061-bb95-0d95eea6b18f",
   "metadata": {},
   "outputs": [],
   "source": []
  },
  {
   "cell_type": "code",
   "execution_count": null,
   "id": "2abf5bc0-142f-4f64-a0d1-4b2d34cf2f53",
   "metadata": {},
   "outputs": [],
   "source": []
  },
  {
   "cell_type": "code",
   "execution_count": null,
   "id": "a56b5b06-1364-4272-b413-f77d1f47962d",
   "metadata": {},
   "outputs": [],
   "source": []
  }
 ],
 "metadata": {
  "kernelspec": {
   "display_name": "Python 3 (ipykernel)",
   "language": "python",
   "name": "python3"
  },
  "language_info": {
   "codemirror_mode": {
    "name": "ipython",
    "version": 3
   },
   "file_extension": ".py",
   "mimetype": "text/x-python",
   "name": "python",
   "nbconvert_exporter": "python",
   "pygments_lexer": "ipython3",
   "version": "3.9.7"
  }
 },
 "nbformat": 4,
 "nbformat_minor": 5
}
